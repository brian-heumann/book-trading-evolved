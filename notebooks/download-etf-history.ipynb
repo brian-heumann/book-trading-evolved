{
 "cells": [
  {
   "cell_type": "code",
   "execution_count": 85,
   "metadata": {},
   "outputs": [],
   "source": [
    "%matplotlib inline \n",
    "import pandas as pd\n",
    "import investpy\n"
   ]
  },
  {
   "cell_type": "code",
   "execution_count": 86,
   "metadata": {
    "tags": []
   },
   "outputs": [
    {
     "output_type": "stream",
     "name": "stdout",
     "text": "iShares MSCI World Value Factor UCITS\n             Open   High    Low  Close Currency Exchange\nDate                                                    \n2020-05-22  22.95  23.31  22.85  23.17      EUR    Xetra\n2020-05-25  23.63  24.26  23.36  23.58      EUR    Xetra\n2020-05-26  23.75  24.05  23.62  23.89      EUR    Xetra\n2020-05-27  24.11  24.42  24.03  24.24      EUR    Xetra\n2020-05-28  24.53  24.65  24.40  24.44      EUR    Xetra\n\n\n\ndb x-trackers MSCI World Quality Factor DR 1C\n             Open   High    Low  Close Currency Exchange\nDate                                                    \n2020-05-22  34.50  34.76  34.43  34.75      EUR    Xetra\n2020-05-25  35.14  35.40  35.08  35.40      EUR    Xetra\n2020-05-26  35.63  35.63  35.38  35.38      EUR    Xetra\n2020-05-27  35.58  35.74  35.15  35.18      EUR    Xetra\n2020-05-28  35.56  35.63  35.44  35.60      EUR    Xetra\n\n\n\ndb x-trackers MSCI World Mom Factor DR 1C\n             Open   High    Low  Close Currency   Exchange\nDate                                                      \n2020-05-22  34.11  34.49  34.03  34.47      EUR  Frankfurt\n2020-05-25  34.87  35.02  34.74  35.02      EUR  Frankfurt\n2020-05-26  35.16  35.16  34.49  34.49      EUR  Frankfurt\n2020-05-27  34.63  34.63  33.69  33.88      EUR  Frankfurt\n2020-05-28  34.41  34.61  34.22  34.61      EUR  Frankfurt\n\n\n\niShares MSCI World Small Cap UCITS USD Acc\n            Open  High   Low  Close Currency Exchange\nDate                                                 \n2020-05-22  4.07  4.14  4.05   4.11      EUR    Xetra\n2020-05-25  4.20  4.22  4.16   4.22      EUR    Xetra\n2020-05-26  4.23  4.26  4.23   4.23      EUR    Xetra\n2020-05-27  4.29  4.32  4.21   4.24      EUR    Xetra\n2020-05-28  4.34  4.34  4.30   4.31      EUR    Xetra\n\n\n\niShares Core MSCI Emerging Markets IMI UCITS\n              Open    High     Low   Close Currency Exchange\nDate                                                        \n2020-05-22  22.371  22.625  22.308  22.470      EUR    Xetra\n2020-05-25  22.673  22.820  22.605  22.820      EUR    Xetra\n2020-05-26  23.025  23.050  22.873  22.941      EUR    Xetra\n2020-05-27  22.849  23.000  22.543  22.747      EUR    Xetra\n2020-05-28  22.782  22.839  22.682  22.721      EUR    Xetra\n\n\n\n"
    }
   ],
   "source": [
    "universe = {\n",
    "    'iShares Core MSCI Emerging Markets IMI UCITS',\n",
    "    'iShares MSCI World Value Factor UCITS',\n",
    "    'iShares MSCI World Small Cap UCITS USD Acc',\n",
    "    'db x-trackers MSCI World Mom Factor DR 1C',\n",
    "    'db x-trackers MSCI World Quality Factor DR 1C'\n",
    "}\n",
    "\n",
    "for etf in universe:\n",
    "    df = investpy.get_etf_recent_data(etf=etf, country='germany')\n",
    "    print(etf)\n",
    "    print(df.head())\n",
    "    print(\"\\n\\n\")\n",
    "\n"
   ]
  },
  {
   "cell_type": "code",
   "execution_count": 92,
   "metadata": {
    "tags": []
   },
   "outputs": [
    {
     "output_type": "stream",
     "name": "stdout",
     "text": "country                                   name  \\\n0         germany  iShares MSCI World Value Factor UCITS   \n1           italy  iShares MSCI World Value Factor UCITS   \n2     switzerland  iShares MSCI World Value Factor UCITS   \n3  united kingdom  iShares MSCI World Value Factor UCITS   \n4  united kingdom  iShares MSCI World Value Factor UCITS   \n\n                                        full_name symbol          isin  \\\n0           iShares MSCI World Value Factor UCITS   IS3S  IE00BP3QZB59   \n1           iShares MSCI World Value Factor UCITS   IWVL  IE00BP3QZB59   \n2  iShares Edge MSCI World Value Factor UCITS USD   IWVL  IE00BP3QZB59   \n3      iShares Edge MSCI World Value Factor UCITS   IWVL  IE00BP3QZB59   \n4      iShares Edge MSCI World Value Factor UCITS   IWFV  IE00BP3QZB59   \n\n  asset_class currency stock_exchange  def_stock_exchange  \n0      equity      EUR          Xetra                True  \n1      equity      EUR          Milan               False  \n2      equity      USD    Switzerland               False  \n3      equity      USD         London               False  \n4      equity      GBP         London               False  \n"
    }
   ],
   "source": [
    "search = investpy.etfs.search_etfs(by='isin', value='IE00BP3QZB59')\n",
    "print(search)"
   ]
  },
  {
   "cell_type": "code",
   "execution_count": 93,
   "metadata": {
    "tags": []
   },
   "outputs": [
    {
     "output_type": "stream",
     "name": "stdout",
     "text": "{'ETF Name': 'iShares MSCI World Value Factor UCITS', 'Prev. Close': 24.35, 'Todays Range': '23.98 - 24.24', 'ROI (TTM)': None, 'Open': 24.11, '52 wk Range': '19.25 - 30.25', 'Dividends (TTM)': None, 'Volume': 23691.0, 'Market Cap': None, 'Dividend Yield': None, 'Average Vol. (3m)': 108818.0, 'Total Assets': None, 'Beta': None, '1-Year Change': '- 7.27%', 'Shares Outstanding': None, 'Asset Class': 'Equity'}\n{'ETF Name': 'db x-trackers MSCI World Quality Factor DR 1C', 'Prev. Close': 35.9, 'Todays Range': '35.45 - 35.58', 'ROI (TTM)': None, 'Open': 35.54, '52 wk Range': '26.8 - 40.14', 'Dividends (TTM)': None, 'Volume': 8775.0, 'Market Cap': None, 'Dividend Yield': None, 'Average Vol. (3m)': 12483.0, 'Total Assets': None, 'Beta': None, '1-Year Change': '6.21%', 'Shares Outstanding': None, 'Asset Class': 'Equity'}\n{'ETF Name': 'db x-trackers MSCI World Mom Factor DR 1C', 'Prev. Close': 35.47, 'Todays Range': '35.19 - 35.55', 'ROI (TTM)': None, 'Open': 35.19, '52 wk Range': '26.23 - 38.49', 'Dividends (TTM)': None, 'Volume': 650.0, 'Market Cap': None, 'Dividend Yield': None, 'Average Vol. (3m)': 424.0, 'Total Assets': None, 'Beta': None, '1-Year Change': '10.64%', 'Shares Outstanding': None, 'Asset Class': 'Equity'}\n{'ETF Name': 'iShares MSCI World Small Cap UCITS USD Acc', 'Prev. Close': 4.37, 'Todays Range': '4.28 - 4.34', 'ROI (TTM)': None, 'Open': 4.31, '52 wk Range': '3.02 - 5.14', 'Dividends (TTM)': None, 'Volume': 675260.0, 'Market Cap': None, 'Dividend Yield': None, 'Average Vol. (3m)': 330020.0, 'Total Assets': None, 'Beta': None, '1-Year Change': '- 2.46%', 'Shares Outstanding': None, 'Asset Class': 'Equity'}\n{'ETF Name': 'iShares Core MSCI Emerging Markets IMI UCITS', 'Prev. Close': 24.277, 'Todays Range': '24.12 - 24.264', 'ROI (TTM)': None, 'Open': 24.204, '52 wk Range': '18.614 - 28.01', 'Dividends (TTM)': None, 'Volume': 236317.0, 'Market Cap': None, 'Dividend Yield': None, 'Average Vol. (3m)': 311953.0, 'Total Assets': None, 'Beta': None, '1-Year Change': '- 2.56%', 'Shares Outstanding': None, 'Asset Class': 'Equity'}\n"
    }
   ],
   "source": [
    "for etf in universe:\n",
    "    info = investpy.etfs.get_etf_information(etf=etf,country='germany', as_json=True)\n",
    "    print(info)"
   ]
  },
  {
   "cell_type": "code",
   "execution_count": 99,
   "metadata": {
    "tags": []
   },
   "outputs": [
    {
     "output_type": "stream",
     "name": "stdout",
     "text": "country                                   name  \\\n0  germany  iShares MSCI World Value Factor UCITS   \n\n                               full_name symbol          isin asset_class  \\\n0  iShares MSCI World Value Factor UCITS   IS3S  IE00BP3QZB59      equity   \n\n  currency stock_exchange  def_stock_exchange  \n0      EUR          Xetra                True  \n   country                                           name  \\\n0  germany  db x-trackers MSCI World Quality Factor DR 1C   \n\n                                           full_name symbol          isin  \\\n0  db x-trackers MSCI World Quality Factor UCITS ...   XDEQ  IE00BL25JL35   \n\n  asset_class currency stock_exchange  def_stock_exchange  \n0      equity      EUR          Xetra                True  \n   country                                       name  \\\n0  germany  db x-trackers MSCI World Mom Factor DR 1C   \n\n                                           full_name symbol          isin  \\\n0  db x-trackers MSCI World Momentum Factor UCITS...   XDEM  IE00BL25JP72   \n\n  asset_class currency stock_exchange  def_stock_exchange  \n0      equity      EUR      Frankfurt                True  \n   country                                        name  \\\n0  germany  iShares MSCI World Small Cap UCITS USD Acc   \n\n                                          full_name symbol          isin  \\\n0  iShares MSCI World Small Cap UCITS ETF USD (Acc)   IUSN  IE00BF4RFH31   \n\n  asset_class currency stock_exchange  def_stock_exchange  \n0      equity      EUR          Xetra                True  \n   country                                          name  \\\n1  germany  iShares Core MSCI Emerging Markets IMI UCITS   \n2  germany  iShares Core MSCI Emerging Markets IMI UCITS   \n\n                                      full_name symbol          isin  \\\n1  iShares Core MSCI Emerging Markets IMI UCITS   IS3N  IE00BKM4GZ66   \n2            iShares Core MSCI EM IMI UCITS Acc   IS3N  IE00BKM4GZ66   \n\n  asset_class currency stock_exchange  def_stock_exchange  \n1      equity      EUR          Xetra               False  \n2      equity      EUR      Frankfurt               False  \n"
    }
   ],
   "source": [
    "for etf in universe:\n",
    "    info =  investpy.etfs.search_etfs(by='name', value=etf)\n",
    "    print(info.query('country == \"germany\"'))\n"
   ]
  },
  {
   "cell_type": "code",
   "execution_count": null,
   "metadata": {},
   "outputs": [],
   "source": []
  }
 ],
 "metadata": {
  "language_info": {
   "codemirror_mode": {
    "name": "ipython",
    "version": 3
   },
   "file_extension": ".py",
   "mimetype": "text/x-python",
   "name": "python",
   "nbconvert_exporter": "python",
   "pygments_lexer": "ipython3",
   "version": "3.7.4-final"
  },
  "orig_nbformat": 2,
  "kernelspec": {
   "name": "python37464bitbaseconda339756174fae46fb99407527b90a5575",
   "display_name": "Python 3.7.4 64-bit ('base': conda)"
  }
 },
 "nbformat": 4,
 "nbformat_minor": 2
}