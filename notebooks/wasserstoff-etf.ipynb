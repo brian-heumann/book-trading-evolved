{
 "cells": [
  {
   "cell_type": "markdown",
   "metadata": {},
   "source": [
    "# Ein Wasserstoff ETF selbst gebaut\n",
    "\n",
    "Das Universum an Titeln beinhaltet Unternehmen, die mit Wasserstoff arbeiten."
   ]
  },
  {
   "cell_type": "code",
   "execution_count": 80,
   "metadata": {},
   "outputs": [],
   "source": [
    "import investpy\n",
    "import requests\n",
    "from bs4 import BeautifulSoup as bs "
   ]
  },
  {
   "cell_type": "code",
   "execution_count": 81,
   "metadata": {
    "tags": []
   },
   "outputs": [
    {
     "output_type": "stream",
     "name": "stdout",
     "text": "[{'short': 'ballard_power', 'isin': 'CA0585861085', 'from': '1996-12-18', 'exchange': 'tgt', 'symbol': 'BLD', 'name': 'Ballard Power'}, {'short': 'itm_power', 'isin': 'GB00B0130H42', 'from': '2006-03-06', 'exchange': 'tgt', 'symbol': 'ITM', 'name': 'ITM Power'}, {'short': 'nel', 'isin': 'NO0010081235', 'from': '2017-10-09', 'exchange': 'tgt', 'symbol': 'DIAG', 'name': 'Nel'}, {'short': 'powercell', 'isin': 'SE0006425815', 'from': '2017-12-17', 'exchange': 'tgt', 'symbol': '27W', 'name': 'Powercell Sweden'}, {'short': 'plug_power', 'isin': 'US72919P2020', 'from': '2014-02-04', 'exchange': 'xetra', 'symbol': 'PLUN', 'name': 'Plug Power'}, {'short': 'hexagon_composites_asa', 'isin': 'NO0003067902', 'from': '2014-03-10', 'exchange': 'tgt', 'symbol': '2HX', 'name': 'Hexagon Composites'}, {'short': 'air_liquide', 'isin': 'FR0000120073', 'from': '1998-03-10', 'exchange': 'xetra', 'symbol': 'AIL', 'name': 'Air Liquide'}, {'short': 'linde', 'isin': 'IE00BZ12WP82', 'from': '2018-10-29', 'exchange': 'xetra', 'symbol': 'LINI', 'name': 'Linde'}]\n"
    }
   ],
   "source": [
    "universe = [\n",
    "    {   'isin': 'CA0585861085', \n",
    "        'symbol': 'BLD',  \n",
    "        'name': \"Ballard Power\" ,\n",
    "        'short': 'ballard_power', \n",
    "        'from': '1996-12-18',\n",
    "        'exchange': 'tgt', },\n",
    "\n",
    "    {   'isin': 'GB00B0130H42', \n",
    "        'symbol': 'ITM',  \n",
    "        'name': \"ITM Power\",\n",
    "        'short': 'itm_power', \n",
    "        'from': '2006-03-06', \n",
    "        'exchange': 'tgt' },\n",
    "\n",
    "    {   'isin': 'NO0010081235', \n",
    "        'symbol': 'DIAG', \n",
    "        'name': \"Nel\", \n",
    "        'short': 'nel',\n",
    "        'from': '2017-10-09', \n",
    "        'exchange': 'tgt' },\n",
    "\n",
    "    {   'isin': 'SE0006425815', \n",
    "        'symbol': '27W',  \n",
    "        'name': \"Powercell Sweden\",\n",
    "        'short': 'powercell', \n",
    "        'from': '2017-12-17', \n",
    "        'exchange': 'tgt' },\n",
    "\n",
    "    {   'isin': 'US72919P2020', \n",
    "        'symbol': 'PLUN', \n",
    "        'name': \"Plug Power\", \n",
    "        'short': 'plug_power',\n",
    "        'from' : '2014-02-04',\n",
    "        'exchange': 'xetra' },\n",
    "\n",
    "    {   'isin': 'NO0003067902', \n",
    "        'symbol': '2HX',  \n",
    "        'name': \"Hexagon Composites\", \n",
    "        'short': 'hexagon_composites_asa',\n",
    "        'from': '2014-03-10', \n",
    "        'exchange': 'tgt' },\n",
    "\n",
    "    {   'isin': 'FR0000120073', \n",
    "        'symbol': 'AIL',  \n",
    "        'name': \"Air Liquide\",\n",
    "        'short': 'air_liquide', \n",
    "        'from': '1998-03-10',\n",
    "        'exchange': 'xetra' },\n",
    "\n",
    "    {   'isin': 'IE00BZ12WP82', \n",
    "        'symbol': 'LINI', \n",
    "        'name': \"Linde\", \n",
    "        'short': 'linde',\n",
    "        'from': '2018-10-29', \n",
    "        'exchange': 'xetra'}\n",
    "]\n",
    "\n",
    "print(universe)"
   ]
  },
  {
   "cell_type": "code",
   "execution_count": 82,
   "metadata": {},
   "outputs": [],
   "source": [
    "def get_download_url(asset ):\n",
    "    base_url = 'https://www.boerse-online.de/kurse/historisch/{short}/{exchange}/{start_date}_{end_date}' \n",
    "    short = asset['short']\n",
    "    start_date = '12.7.2019'\n",
    "    end_date = '12.7.2020'\n",
    "    exchange = asset['exchange']\n",
    "    return base_url.format(\n",
    "        short=short,\n",
    "        exchange=exchange,\n",
    "        start_date = start_date,\n",
    "        end_date = end_date\n",
    "    )\n",
    "\n"
   ]
  },
  {
   "cell_type": "code",
   "execution_count": 83,
   "metadata": {
    "tags": []
   },
   "outputs": [
    {
     "output_type": "stream",
     "name": "stdout",
     "text": "Looking up CA0585861085\nDownload 200\n\n<!DOCTYPE html>\n<html lang=\"en\">\n<head>\n\t\n\n<title>Ballard Power Historisch - B&#214;RSE ONLINE</title>\n<meta name=\"title\" content=\"Ballard Power Historisch - B&#214;RSE ONLINE\"/>\n<meta property=\"og:title\" content=\"Ballard Power Historisch - \n--------------------------\nLooking up GB00B0130H42\nDownload 200\n\n<!DOCTYPE html>\n<html lang=\"en\">\n<head>\n\t\n\n<title>ITM Power Historisch - B&#214;RSE ONLINE</title>\n<meta name=\"title\" content=\"ITM Power Historisch - B&#214;RSE ONLINE\"/>\n<meta property=\"og:title\" content=\"ITM Power Historisch - B&#214;RSE O\n--------------------------\nLooking up NO0010081235\nDownload 200\n\n<!DOCTYPE html>\n<html lang=\"en\">\n<head>\n\t\n\n<title>NEL ASA Historisch - B&#214;RSE ONLINE</title>\n<meta name=\"title\" content=\"NEL ASA Historisch - B&#214;RSE ONLINE\"/>\n<meta property=\"og:title\" content=\"NEL ASA Historisch - B&#214;RSE ONLINE\"\n--------------------------\nLooking up SE0006425815\nDownload 200\n\n<!DOCTYPE html>\n<html lang=\"en\">\n<head>\n\t\n\n<title>PowerCell Sweden AB Historisch - B&#214;RSE ONLINE</title>\n<meta name=\"title\" content=\"PowerCell Sweden AB Historisch - B&#214;RSE ONLINE\"/>\n<meta property=\"og:title\" content=\"PowerCell Swede\n--------------------------\nLooking up US72919P2020\nDownload 200\n\n<!DOCTYPE html>\n<html lang=\"en\">\n<head>\n\t\n\n<title>Plug Power Historisch - B&#214;RSE ONLINE</title>\n<meta name=\"title\" content=\"Plug Power Historisch - B&#214;RSE ONLINE\"/>\n<meta property=\"og:title\" content=\"Plug Power Historisch - B&#214;RS\n--------------------------\nLooking up NO0003067902\nDownload 200\n\n<!DOCTYPE html>\n<html lang=\"en\">\n<head>\n\t\n\n<title>Hexagon Composites ASA Historisch - B&#214;RSE ONLINE</title>\n<meta name=\"title\" content=\"Hexagon Composites ASA Historisch - B&#214;RSE ONLINE\"/>\n<meta property=\"og:title\" content=\"Hexagon C\n--------------------------\nLooking up FR0000120073\nDownload 200\n\n<!DOCTYPE html>\n<html lang=\"en\">\n<head>\n\t\n\n<title>Air Liquide Historisch - B&#214;RSE ONLINE</title>\n<meta name=\"title\" content=\"Air Liquide Historisch - B&#214;RSE ONLINE\"/>\n<meta property=\"og:title\" content=\"Air Liquide Historisch - B&#214\n--------------------------\nLooking up IE00BZ12WP82\nDownload 200\n\n<!DOCTYPE html>\n<html lang=\"en\">\n<head>\n\t\n\n<title>Linde Historisch - B&#214;RSE ONLINE</title>\n<meta name=\"title\" content=\"Linde Historisch - B&#214;RSE ONLINE\"/>\n<meta property=\"og:title\" content=\"Linde Historisch - B&#214;RSE ONLINE\" />\n<\n--------------------------\n"
    }
   ],
   "source": [
    "for asset in universe:\n",
    "    isin = asset['isin']\n",
    "    print(\"Looking up\", isin)\n",
    "   \n",
    "    url = get_download_url(asset)\n",
    "    res = requests.get(url)\n",
    "    print(\"Download\", res.status_code)\n",
    "    print(res.text[:250])\n",
    "\n",
    "    print(\"--------------------------\")\n",
    "\n"
   ]
  },
  {
   "cell_type": "code",
   "execution_count": null,
   "metadata": {},
   "outputs": [],
   "source": []
  }
 ],
 "metadata": {
  "language_info": {
   "codemirror_mode": {
    "name": "ipython",
    "version": 3
   },
   "file_extension": ".py",
   "mimetype": "text/x-python",
   "name": "python",
   "nbconvert_exporter": "python",
   "pygments_lexer": "ipython3",
   "version": "3.5.6-final"
  },
  "orig_nbformat": 2,
  "kernelspec": {
   "name": "python35664bitpy35conda8467ec8abea6429397476776ed62eea6",
   "display_name": "Python 3.5.6 64-bit ('py35': conda)"
  }
 },
 "nbformat": 4,
 "nbformat_minor": 2
}