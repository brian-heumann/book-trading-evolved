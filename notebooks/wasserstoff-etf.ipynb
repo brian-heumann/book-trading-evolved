{
 "cells": [
  {
   "cell_type": "markdown",
   "metadata": {},
   "source": [
    "# Ein Wasserstoff ETF selbst gebaut\n",
    "\n",
    "Das Universum an Titeln beinhaltet Unternehmen, die mit Wasserstoff arbeiten."
   ]
  },
  {
   "cell_type": "code",
   "execution_count": 104,
   "metadata": {},
   "outputs": [],
   "source": [
    "import investpy\n",
    "import requests\n",
    "from bs4 import BeautifulSoup as bs "
   ]
  },
  {
   "cell_type": "code",
   "execution_count": 143,
   "metadata": {
    "tags": []
   },
   "outputs": [],
   "source": [
    "universe = [\n",
    "    {   'isin': 'CA0585861085', \n",
    "        'symbol': 'PO0.F',  \n",
    "        'name': \"Ballard Power\" ,\n",
    "        'short': 'ballard_power' },\n",
    "\n",
    "    {   'isin': 'GB00B0130H42', \n",
    "        'symbol': 'IJ8.F',  \n",
    "        'name': \"ITM Power\" },\n",
    "\n",
    "    {   'isin': 'NO0010081235', \n",
    "        'symbol': 'D7G.F', \n",
    "        'name': \"Nel\" },\n",
    "\n",
    "    {   'isin': 'SE0006425815', \n",
    "        'symbol': '27W.F',  \n",
    "        'name': \"Powercell Sweden\" },\n",
    "\n",
    "    {   'isin': 'US72919P2020', \n",
    "        'symbol': 'PLUN.F', \n",
    "        'name': \"Plug Power\" },\n",
    "\n",
    "    {   'isin': 'NO0003067902', \n",
    "        'symbol': '2HX.F',  \n",
    "        'name': \"Hexagon Composites\" },\n",
    "\n",
    "    {   'isin': 'FR0000120073', \n",
    "        'symbol': 'AIL.DE',  \n",
    "        'name': \"Air Liquide\" },\n",
    "\n",
    "    {   'isin': 'IE00BZ12WP82', \n",
    "        'symbol': 'LIN.F', \n",
    "        'name': \"Linde\" },\n",
    "\n",
    "    {   'isin': 'US2310211063',\n",
    "        'symbol': 'CUM.F',\n",
    "        'name': 'Cummins'}\n",
    "]"
   ]
  },
  {
   "cell_type": "code",
   "execution_count": 144,
   "metadata": {
    "tags": []
   },
   "outputs": [
    {
     "output_type": "stream",
     "name": "stdout",
     "text": "\n Ballard Power ------------\n            Open  High   Low  Close  Volume  Dividends  Stock Splits\nDate                                                                \n2007-12-28  3.48  3.51  3.43   3.51   28084          0             0\n2008-01-02  3.64  3.72  3.59   3.65   19930          0             0\n2008-01-03  3.63  3.85  3.57   3.84   32697          0             0\n2008-01-04  3.84  3.93  3.62   3.64   47130          0             0\n2008-01-07  3.60  3.67  3.45   3.67   34835          0             0\n\n ITM Power ------------\n              Open    High     Low   Close  Volume  Dividends  Stock Splits\nDate                                                                       \n2006-03-02  2.7770  2.7770  2.7770  2.7770       0          0             0\n2006-03-03  2.7770  2.7770  2.7770  2.7770       0          0             0\n2006-03-06  2.8162  2.8162  2.8162  2.8162       0          0             0\n2006-03-07  2.7666  2.7666  2.7666  2.7666       1          0             0\n2006-03-08  2.6590  2.7764  2.6590  2.6590       0          0             0\n\n Nel ------------\n              Open    High     Low   Close  Volume  Dividends  Stock Splits\nDate                                                                       \n2017-10-09  0.2842  0.3132  0.2743  0.3032  266867          0             0\n2017-10-10  0.2892  0.3241  0.2713  0.3192  662896          0             0\n2017-10-11  0.3271  0.3271  0.2942  0.2972  504584          0             0\n2017-10-12  0.2992  0.3192  0.2892  0.3072  261899          0             0\n2017-10-13  0.3052  0.3052  0.2992  0.3032  143886          0             0\n\n Powercell Sweden ------------\n            Open  High   Low  Close  Volume  Dividends  Stock Splits\nDate                                                                \n2017-11-09  3.63  3.85  3.63   3.85     300          0             0\n2017-11-10  3.76  4.17  3.76   4.17       0          0             0\n2017-11-13  4.40  4.40  4.07   4.10    2600          0             0\n2017-11-14  4.24  4.26  4.10   4.10    2850          0             0\n2017-11-15  4.04  4.04  3.90   3.90    5770          0             0\n\n Plug Power ------------\n             Open   High    Low  Close  Volume  Dividends  Stock Splits\nDate                                                                   \n2000-01-03  272.0  272.0  260.0  260.0     0.0          0           0.0\n2000-01-04  255.0  255.0  255.0  255.0    50.0          0           0.0\n2000-01-05  245.0  255.0  245.0  255.0     7.0          0           0.0\n2000-01-06  280.0  405.0  280.0  405.0     5.0          0           0.0\n2000-01-07  345.0  450.0  345.0  450.0     3.0          0           0.0\n\n Hexagon Composites ------------\n              Open    High     Low   Close  Volume  Dividends  Stock Splits\nDate                                                                       \n2014-03-10  1.8842  1.8842  1.8842  1.8842       0        0.0             0\n2014-03-11  2.0607  2.0607  2.0607  2.0607       0        0.0             0\n2014-03-12  2.2957  2.2957  2.2957  2.2957       0        0.0             0\n2014-03-13  2.2699  2.2699  2.2699  2.2699       0        0.0             0\n2014-03-14  2.2297  2.2297  2.2297  2.2297       0        0.0             0\n\n Air Liquide ------------\n             Open   High    Low  Close  Volume  Dividends  Stock Splits\nDate                                                                   \n2007-12-28  62.46  62.80  62.46  62.79   477.0        0.0           0.0\n2008-01-02  63.24  63.24  62.86  62.86   538.0        0.0           0.0\n2008-01-03  62.27  63.69  62.27  63.09  2301.0        0.0           0.0\n2008-01-04  63.63  64.70  63.63  64.14  3242.0        0.0           0.0\n2008-01-07  63.48  64.43  63.48  63.71  1644.0        0.0           0.0\n\n Linde ------------\n             Open   High    Low  Close  Volume  Dividends  Stock Splits\nDate                                                                   \n2000-09-18  28.23  28.29  27.57  27.84   75900        0.0           0.0\n2000-09-19  28.23  28.47  27.69  27.90   31200        0.0           0.0\n2000-09-20  28.05  28.17  27.36  27.51   41000        0.0           0.0\n2000-09-21  27.54  27.87  26.97  27.33   60500        0.0           0.0\n2000-09-22  27.33  27.51  26.73  27.51   46600        0.0           0.0\n\n Cummins ------------\n             Open   High    Low  Close  Volume  Dividends  Stock Splits\nDate                                                                   \n2001-02-22  31.29  31.29  31.29  31.29       0        0.0             0\n2001-02-23  30.67  30.67  30.67  30.67       0        0.0             0\n2001-02-26  30.28  30.28  30.28  30.28       0        0.0             0\n2001-02-27  31.83  31.83  31.83  31.83       0        0.0             0\n2001-02-28  31.29  31.29  31.29  31.29       0        0.0             0\n"
    }
   ],
   "source": [
    "import yfinance as yf\n",
    "\n",
    "for asset in universe:\n",
    "    symbol = asset['symbol'] # symbol includes the exchange\n",
    "    stock = yf.Ticker(symbol)\n",
    "    hist = stock.history(period=\"max\", back_adjust=True)\n",
    "    print(\"\\n\", asset['name'], \"------------\")\n",
    "    print(hist.head())\n"
   ]
  },
  {
   "cell_type": "code",
   "execution_count": null,
   "metadata": {},
   "outputs": [],
   "source": []
  }
 ],
 "metadata": {
  "language_info": {
   "codemirror_mode": {
    "name": "ipython",
    "version": 3
   },
   "file_extension": ".py",
   "mimetype": "text/x-python",
   "name": "python",
   "nbconvert_exporter": "python",
   "pygments_lexer": "ipython3",
   "version": "3.5.6-final"
  },
  "orig_nbformat": 2,
  "kernelspec": {
   "name": "python35664bitpy35condacfc74324337346cea2752b7c3df553a0",
   "display_name": "Python 3.5.6 64-bit ('py35': conda)"
  }
 },
 "nbformat": 4,
 "nbformat_minor": 2
}