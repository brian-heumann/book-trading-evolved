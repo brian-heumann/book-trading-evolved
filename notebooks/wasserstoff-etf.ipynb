{
 "cells": [
  {
   "cell_type": "markdown",
   "metadata": {},
   "source": [
    "# Ein Wasserstoff ETF selbst gebaut\n",
    "\n",
    "Das Universum an Titeln beinhaltet Unternehmen, die mit Wasserstoff arbeiten."
   ]
  },
  {
   "cell_type": "code",
   "execution_count": 18,
   "metadata": {},
   "outputs": [],
   "source": [
    "import yfinance"
   ]
  },
  {
   "cell_type": "code",
   "execution_count": 19,
   "metadata": {
    "tags": []
   },
   "outputs": [],
   "source": [
    "universe = [\n",
    "    {   'isin': 'CA0585861085', \n",
    "        'symbol': 'PO0.F',  \n",
    "        'name': \"Ballard Power\" },\n",
    "\n",
    "    {   'isin': 'GB00B0130H42', \n",
    "        'symbol': 'IJ8.F',  \n",
    "        'name': \"ITM Power\" },\n",
    "\n",
    "    {   'isin': 'NO0010081235', \n",
    "        'symbol': 'D7G.F', \n",
    "        'name': \"Nel\" },\n",
    "\n",
    "    {   'isin': 'SE0006425815', \n",
    "        'symbol': '27W.F',  \n",
    "        'name': \"Powercell Sweden\" },\n",
    "\n",
    "    {   'isin': 'US72919P2020', \n",
    "        'symbol': 'PLUN.F', \n",
    "        'name': \"Plug Power\" },\n",
    "\n",
    "    {   'isin': 'NO0003067902', \n",
    "        'symbol': '2HX.F',  \n",
    "        'name': \"Hexagon Composites\" },\n",
    "\n",
    "    {   'isin': 'FR0000120073', \n",
    "        'symbol': 'AIL.DE',  \n",
    "        'name': \"Air Liquide\" },\n",
    "\n",
    "    {   'isin': 'IE00BZ12WP82', \n",
    "        'symbol': 'LIN.F', \n",
    "        'name': \"Linde\" },\n",
    "\n",
    "    {   'isin': 'US2310211063',\n",
    "        'symbol': 'CUM.F',\n",
    "        'name': 'Cummins'}\n",
    "]"
   ]
  },
  {
   "cell_type": "code",
   "execution_count": 20,
   "metadata": {
    "tags": []
   },
   "outputs": [
    {
     "output_type": "stream",
     "name": "stdout",
     "text": "\n Ballard Power\n-\n            Open  High   Low  Close  Volume  Dividends  Stock Splits\nDate                                                                \n2007-12-28  3.48  3.51  3.43   3.51   28084          0             0\n2008-01-02  3.64  3.72  3.59   3.65   19930          0             0\n2008-01-03  3.63  3.85  3.57   3.84   32697          0             0\n2008-01-04  3.84  3.93  3.62   3.64   47130          0             0\n2008-01-07  3.60  3.67  3.45   3.67   34835          0             0\n\n ITM Power\n-\n              Open    High     Low   Close  Volume  Dividends  Stock Splits\nDate                                                                       \n2006-03-02  2.7770  2.7770  2.7770  2.7770       0          0             0\n2006-03-03  2.7770  2.7770  2.7770  2.7770       0          0             0\n2006-03-06  2.8162  2.8162  2.8162  2.8162       0          0             0\n2006-03-07  2.7666  2.7666  2.7666  2.7666       1          0             0\n2006-03-08  2.6590  2.7764  2.6590  2.6590       0          0             0\n\n Nel\n-\n              Open    High     Low   Close  Volume  Dividends  Stock Splits\nDate                                                                       \n2017-10-09  0.2842  0.3132  0.2743  0.3032  266867          0             0\n2017-10-10  0.2892  0.3241  0.2713  0.3192  662896          0             0\n2017-10-11  0.3271  0.3271  0.2942  0.2972  504584          0             0\n2017-10-12  0.2992  0.3192  0.2892  0.3072  261899          0             0\n2017-10-13  0.3052  0.3052  0.2992  0.3032  143886          0             0\n\n Powercell Sweden\n-\n            Open  High   Low  Close  Volume  Dividends  Stock Splits\nDate                                                                \n2017-11-09  3.63  3.85  3.63   3.85     300          0             0\n2017-11-10  3.76  4.17  3.76   4.17       0          0             0\n2017-11-13  4.40  4.40  4.07   4.10    2600          0             0\n2017-11-14  4.24  4.26  4.10   4.10    2850          0             0\n2017-11-15  4.04  4.04  3.90   3.90    5770          0             0\n\n Plug Power\n"
    },
    {
     "output_type": "error",
     "ename": "IndexError",
     "evalue": "list index out of range",
     "traceback": [
      "\u001b[0;31m---------------------------------------------------------------------------\u001b[0m",
      "\u001b[0;31mIndexError\u001b[0m                                Traceback (most recent call last)",
      "\u001b[0;32m<ipython-input-20-d09d6d4f99f5>\u001b[0m in \u001b[0;36m<module>\u001b[0;34m()\u001b[0m\n\u001b[1;32m      4\u001b[0m     \u001b[0mhist\u001b[0m \u001b[0;34m=\u001b[0m \u001b[0mstock\u001b[0m\u001b[0;34m.\u001b[0m\u001b[0mhistory\u001b[0m\u001b[0;34m(\u001b[0m\u001b[0mperiod\u001b[0m\u001b[0;34m=\u001b[0m\u001b[0;34m\"max\"\u001b[0m\u001b[0;34m)\u001b[0m\u001b[0;34m\u001b[0m\u001b[0m\n\u001b[1;32m      5\u001b[0m     \u001b[0mprint\u001b[0m\u001b[0;34m(\u001b[0m\u001b[0;34m\"\\n\"\u001b[0m\u001b[0;34m,\u001b[0m \u001b[0masset\u001b[0m\u001b[0;34m[\u001b[0m\u001b[0;34m'name'\u001b[0m\u001b[0;34m]\u001b[0m\u001b[0;34m)\u001b[0m\u001b[0;34m\u001b[0m\u001b[0m\n\u001b[0;32m----> 6\u001b[0;31m     \u001b[0mprint\u001b[0m\u001b[0;34m(\u001b[0m\u001b[0mstock\u001b[0m\u001b[0;34m.\u001b[0m\u001b[0misin\u001b[0m\u001b[0;34m)\u001b[0m\u001b[0;34m\u001b[0m\u001b[0m\n\u001b[0m\u001b[1;32m      7\u001b[0m     \u001b[0mprint\u001b[0m\u001b[0;34m(\u001b[0m\u001b[0mhist\u001b[0m\u001b[0;34m.\u001b[0m\u001b[0mhead\u001b[0m\u001b[0;34m(\u001b[0m\u001b[0;34m)\u001b[0m\u001b[0;34m)\u001b[0m\u001b[0;34m\u001b[0m\u001b[0m\n",
      "\u001b[0;32m/Users/heumann/opt/anaconda3/envs/py35/lib/python3.5/site-packages/yfinance/ticker.py\u001b[0m in \u001b[0;36misin\u001b[0;34m(self)\u001b[0m\n\u001b[1;32m    108\u001b[0m     \u001b[0;34m@\u001b[0m\u001b[0mproperty\u001b[0m\u001b[0;34m\u001b[0m\u001b[0m\n\u001b[1;32m    109\u001b[0m     \u001b[0;32mdef\u001b[0m \u001b[0misin\u001b[0m\u001b[0;34m(\u001b[0m\u001b[0mself\u001b[0m\u001b[0;34m)\u001b[0m\u001b[0;34m:\u001b[0m\u001b[0;34m\u001b[0m\u001b[0m\n\u001b[0;32m--> 110\u001b[0;31m         \u001b[0;32mreturn\u001b[0m \u001b[0mself\u001b[0m\u001b[0;34m.\u001b[0m\u001b[0mget_isin\u001b[0m\u001b[0;34m(\u001b[0m\u001b[0;34m)\u001b[0m\u001b[0;34m\u001b[0m\u001b[0m\n\u001b[0m\u001b[1;32m    111\u001b[0m \u001b[0;34m\u001b[0m\u001b[0m\n\u001b[1;32m    112\u001b[0m     \u001b[0;34m@\u001b[0m\u001b[0mproperty\u001b[0m\u001b[0;34m\u001b[0m\u001b[0m\n",
      "\u001b[0;32m/Users/heumann/opt/anaconda3/envs/py35/lib/python3.5/site-packages/yfinance/base.py\u001b[0m in \u001b[0;36mget_isin\u001b[0;34m(self, proxy)\u001b[0m\n\u001b[1;32m    493\u001b[0m \u001b[0;34m\u001b[0m\u001b[0m\n\u001b[1;32m    494\u001b[0m         \u001b[0mq\u001b[0m \u001b[0;34m=\u001b[0m \u001b[0mticker\u001b[0m\u001b[0;34m\u001b[0m\u001b[0m\n\u001b[0;32m--> 495\u001b[0;31m         \u001b[0mself\u001b[0m\u001b[0;34m.\u001b[0m\u001b[0mget_info\u001b[0m\u001b[0;34m(\u001b[0m\u001b[0mproxy\u001b[0m\u001b[0;34m=\u001b[0m\u001b[0mproxy\u001b[0m\u001b[0;34m)\u001b[0m\u001b[0;34m\u001b[0m\u001b[0m\n\u001b[0m\u001b[1;32m    496\u001b[0m         \u001b[0;32mif\u001b[0m \u001b[0;34m\"shortName\"\u001b[0m \u001b[0;32min\u001b[0m \u001b[0mself\u001b[0m\u001b[0;34m.\u001b[0m\u001b[0m_info\u001b[0m\u001b[0;34m:\u001b[0m\u001b[0;34m\u001b[0m\u001b[0m\n\u001b[1;32m    497\u001b[0m             \u001b[0mq\u001b[0m \u001b[0;34m=\u001b[0m \u001b[0mself\u001b[0m\u001b[0;34m.\u001b[0m\u001b[0m_info\u001b[0m\u001b[0;34m[\u001b[0m\u001b[0;34m'shortName'\u001b[0m\u001b[0;34m]\u001b[0m\u001b[0;34m\u001b[0m\u001b[0m\n",
      "\u001b[0;32m/Users/heumann/opt/anaconda3/envs/py35/lib/python3.5/site-packages/yfinance/base.py\u001b[0m in \u001b[0;36mget_info\u001b[0;34m(self, proxy, as_dict, *args, **kwargs)\u001b[0m\n\u001b[1;32m    413\u001b[0m \u001b[0;34m\u001b[0m\u001b[0m\n\u001b[1;32m    414\u001b[0m     \u001b[0;32mdef\u001b[0m \u001b[0mget_info\u001b[0m\u001b[0;34m(\u001b[0m\u001b[0mself\u001b[0m\u001b[0;34m,\u001b[0m \u001b[0mproxy\u001b[0m\u001b[0;34m=\u001b[0m\u001b[0;32mNone\u001b[0m\u001b[0;34m,\u001b[0m \u001b[0mas_dict\u001b[0m\u001b[0;34m=\u001b[0m\u001b[0;32mFalse\u001b[0m\u001b[0;34m,\u001b[0m \u001b[0;34m*\u001b[0m\u001b[0margs\u001b[0m\u001b[0;34m,\u001b[0m \u001b[0;34m**\u001b[0m\u001b[0mkwargs\u001b[0m\u001b[0;34m)\u001b[0m\u001b[0;34m:\u001b[0m\u001b[0;34m\u001b[0m\u001b[0m\n\u001b[0;32m--> 415\u001b[0;31m         \u001b[0mself\u001b[0m\u001b[0;34m.\u001b[0m\u001b[0m_get_fundamentals\u001b[0m\u001b[0;34m(\u001b[0m\u001b[0mproxy\u001b[0m\u001b[0;34m)\u001b[0m\u001b[0;34m\u001b[0m\u001b[0m\n\u001b[0m\u001b[1;32m    416\u001b[0m         \u001b[0mdata\u001b[0m \u001b[0;34m=\u001b[0m \u001b[0mself\u001b[0m\u001b[0;34m.\u001b[0m\u001b[0m_info\u001b[0m\u001b[0;34m\u001b[0m\u001b[0m\n\u001b[1;32m    417\u001b[0m         \u001b[0;32mif\u001b[0m \u001b[0mas_dict\u001b[0m\u001b[0;34m:\u001b[0m\u001b[0;34m\u001b[0m\u001b[0m\n",
      "\u001b[0;32m/Users/heumann/opt/anaconda3/envs/py35/lib/python3.5/site-packages/yfinance/base.py\u001b[0m in \u001b[0;36m_get_fundamentals\u001b[0;34m(self, kind, proxy)\u001b[0m\n\u001b[1;32m    284\u001b[0m         \u001b[0mholders\u001b[0m \u001b[0;34m=\u001b[0m \u001b[0m_pd\u001b[0m\u001b[0;34m.\u001b[0m\u001b[0mread_html\u001b[0m\u001b[0;34m(\u001b[0m\u001b[0murl\u001b[0m\u001b[0;34m)\u001b[0m\u001b[0;34m\u001b[0m\u001b[0m\n\u001b[1;32m    285\u001b[0m         \u001b[0mself\u001b[0m\u001b[0;34m.\u001b[0m\u001b[0m_major_holders\u001b[0m \u001b[0;34m=\u001b[0m \u001b[0mholders\u001b[0m\u001b[0;34m[\u001b[0m\u001b[0;36m0\u001b[0m\u001b[0;34m]\u001b[0m\u001b[0;34m\u001b[0m\u001b[0m\n\u001b[0;32m--> 286\u001b[0;31m         \u001b[0mself\u001b[0m\u001b[0;34m.\u001b[0m\u001b[0m_institutional_holders\u001b[0m \u001b[0;34m=\u001b[0m \u001b[0mholders\u001b[0m\u001b[0;34m[\u001b[0m\u001b[0;36m1\u001b[0m\u001b[0;34m]\u001b[0m\u001b[0;34m\u001b[0m\u001b[0m\n\u001b[0m\u001b[1;32m    287\u001b[0m         \u001b[0;32mif\u001b[0m \u001b[0;34m'Date Reported'\u001b[0m \u001b[0;32min\u001b[0m \u001b[0mself\u001b[0m\u001b[0;34m.\u001b[0m\u001b[0m_institutional_holders\u001b[0m\u001b[0;34m:\u001b[0m\u001b[0;34m\u001b[0m\u001b[0m\n\u001b[1;32m    288\u001b[0m             self._institutional_holders['Date Reported'] = _pd.to_datetime(\n",
      "\u001b[0;31mIndexError\u001b[0m: list index out of range"
     ]
    }
   ],
   "source": [
    "for asset in universe:\n",
    "    symbol = asset['symbol'] # symbol includes the exchang\n",
    "    stock = yf.Ticker(symbol)\n",
    "    hist = stock.history(period=\"max\")\n",
    "    print(\"\\n\", asset['name'])\n",
    "    print(stock.isin)\n",
    "    print(hist.head())\n"
   ]
  },
  {
   "cell_type": "markdown",
   "metadata": {},
   "source": [
    "## Does yFinance work for ETFs, too?"
   ]
  },
  {
   "cell_type": "code",
   "execution_count": 21,
   "metadata": {
    "tags": []
   },
   "outputs": [
    {
     "output_type": "stream",
     "name": "stdout",
     "text": "iShares Core MSCI Emerging Markets IMI UCITS\n             Open   High    Low  Close  Volume  Dividends  Stock Splits\nDate                                                                   \n2014-06-11  18.81  18.84  18.81  18.84       0          0             0\n2014-06-12  18.86  18.88  18.80  18.80       0          0             0\n2014-06-13  18.70  18.70  18.57  18.57       0          0             0\n2014-06-16  18.54  18.73  18.54  18.61       0          0             0\n2014-06-17  18.66  18.66  18.62  18.62       0          0             0\n\n\n\niShares MSCI World Value Factor UCITS\n             Open   High    Low  Close  Volume  Dividends  Stock Splits\nDate                                                                   \n2014-10-06  24.86  24.86  24.86  24.86       0          0             0\n2014-10-07  24.68  24.68  24.68  24.68       0          0             0\n2014-10-08  24.70  24.70  24.70  24.70       0          0             0\n2014-10-09  24.41  24.41  24.41  24.41       0          0             0\n2014-10-10  23.97  23.97  23.97  23.97       0          0             0\n\n\n\niShares MSCI World Small Cap UCITS USD Acc\n              Open    High     Low   Close  Volume  Dividends  Stock Splits\nDate                                                                       \n2018-07-23  4.5405  4.5440  4.5315  4.5415    4370          0             0\n2018-07-24  4.5765  4.5765  4.5555  4.5555    3159          0             0\n2018-07-25  4.5320  4.5545  4.5320  4.5480   48341          0             0\n2018-07-26  4.5725  4.5970  4.5715  4.5970    1585          0             0\n2018-07-27  4.6085  4.6280  4.5605  4.5655   14011          0             0\n\n\n\ndb x-trackers MSCI World Mom Factor DR 1C\n             Open   High    Low  Close  Volume  Dividends  Stock Splits\nDate                                                                   \n2014-09-05  22.88  22.88  22.88  22.88       0          0             0\n2014-09-08  22.80  22.80  22.80  22.80       0          0             0\n2014-09-09  22.65  22.65  22.65  22.65       0          0             0\n2014-09-10  22.65  22.65  22.65  22.65       0          0             0\n2014-09-11  22.69  22.69  22.69  22.69       0          0             0\n\n\n\ndb x-trackers MSCI World Quality Factor DR 1C\n             Open   High    Low  Close  Volume  Dividends  Stock Splits\nDate                                                                   \n2014-09-11  26.52  26.52  26.52  26.52       0          0             0\n2014-09-12  26.40  26.40  26.40  26.40       0          0             0\n2014-09-15  26.37  26.37  26.37  26.37       0          0             0\n2014-09-16  26.44  26.44  26.44  26.44       0          0             0\n2014-09-17  26.49  26.49  26.49  26.49       0          0             0\n\n\n\n"
    }
   ],
   "source": [
    "etfs = [\n",
    "    {   'isin': 'IE00BKM4GZ66', \n",
    "        'symbol': 'IS3N.F',\n",
    "        'name': 'iShares Core MSCI Emerging Markets IMI UCITS'\n",
    "    },\n",
    "    {   'isin': 'IE00BP3QZB59', \n",
    "        'symbol': 'IS3S.DE',\n",
    "        'name': 'iShares MSCI World Value Factor UCITS'\n",
    "    },\n",
    "    {   'isin': 'IE00BF4RFH31', \n",
    "        'symbol': 'IUSN.DE',\n",
    "        'name': 'iShares MSCI World Small Cap UCITS USD Acc' \n",
    "    },\n",
    "    {   'isin': 'IE00BL25JP72', \n",
    "        'symbol': 'XDEM.DE',\n",
    "        'name': 'db x-trackers MSCI World Mom Factor DR 1C' \n",
    "    },\n",
    "    {   'isin': 'IE00BL25JL35', \n",
    "        'symbol': 'XDEQ.DE',\n",
    "        'name': 'db x-trackers MSCI World Quality Factor DR 1C' \n",
    "    },\n",
    "    \n",
    "]\n",
    "\n",
    "for s in etfs:\n",
    "    etf = yf.Ticker(s['symbol'])\n",
    "    hist = etf.history(period=\"max\", auto_adjust=True)\n",
    "    print(s['name'])\n",
    "    print(hist.head())\n",
    "    print(\"\\n\\n\")"
   ]
  },
  {
   "cell_type": "code",
   "execution_count": null,
   "metadata": {},
   "outputs": [],
   "source": []
  }
 ],
 "metadata": {
  "language_info": {
   "codemirror_mode": {
    "name": "ipython",
    "version": 3
   },
   "file_extension": ".py",
   "mimetype": "text/x-python",
   "name": "python",
   "nbconvert_exporter": "python",
   "pygments_lexer": "ipython3",
   "version": "3.5.6-final"
  },
  "orig_nbformat": 2,
  "kernelspec": {
   "name": "python35664bitpy35condacfc74324337346cea2752b7c3df553a0",
   "display_name": "Python 3.5.6 64-bit ('py35': conda)"
  }
 },
 "nbformat": 4,
 "nbformat_minor": 2
}